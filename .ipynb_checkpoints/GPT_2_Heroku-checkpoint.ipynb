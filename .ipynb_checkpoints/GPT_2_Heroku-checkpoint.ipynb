{
 "cells": [
  {
   "cell_type": "code",
   "execution_count": 2,
   "metadata": {
    "colab": {},
    "colab_type": "code",
    "id": "bYhEpZk2YqUI"
   },
   "outputs": [
    {
     "name": "stdout",
     "output_type": "stream",
     "text": [
      "Collecting gpt_2_simple\n",
      "Requirement already satisfied: numpy in c:\\users\\chris brousseau\\appdata\\local\\continuum\\anaconda3\\lib\\site-packages (from gpt_2_simple) (1.16.4)\n",
      "Collecting toposort (from gpt_2_simple)\n",
      "  Using cached https://files.pythonhosted.org/packages/e9/8a/321cd8ea5f4a22a06e3ba30ef31ec33bea11a3443eeb1d89807640ee6ed4/toposort-1.5-py2.py3-none-any.whl\n",
      "Requirement already satisfied: requests in c:\\users\\chris brousseau\\appdata\\local\\continuum\\anaconda3\\lib\\site-packages (from gpt_2_simple) (2.22.0)\n",
      "Collecting regex (from gpt_2_simple)\n",
      "  Using cached https://files.pythonhosted.org/packages/f1/2f/f586e982712ffee5681ca149d54480dbb04ff533e9e4638c5e28ae76bdb5/regex-2019.08.19-cp37-none-win_amd64.whl\n",
      "Requirement already satisfied: tqdm in c:\\users\\chris brousseau\\appdata\\local\\continuum\\anaconda3\\lib\\site-packages (from gpt_2_simple) (4.32.1)\n",
      "Requirement already satisfied: certifi>=2017.4.17 in c:\\users\\chris brousseau\\appdata\\local\\continuum\\anaconda3\\lib\\site-packages (from requests->gpt_2_simple) (2019.6.16)\n",
      "Requirement already satisfied: idna<2.9,>=2.5 in c:\\users\\chris brousseau\\appdata\\local\\continuum\\anaconda3\\lib\\site-packages (from requests->gpt_2_simple) (2.8)\n",
      "Requirement already satisfied: chardet<3.1.0,>=3.0.2 in c:\\users\\chris brousseau\\appdata\\local\\continuum\\anaconda3\\lib\\site-packages (from requests->gpt_2_simple) (3.0.4)\n",
      "Requirement already satisfied: urllib3!=1.25.0,!=1.25.1,<1.26,>=1.21.1 in c:\\users\\chris brousseau\\appdata\\local\\continuum\\anaconda3\\lib\\site-packages (from requests->gpt_2_simple) (1.24.2)\n",
      "Installing collected packages: toposort, regex, gpt-2-simple\n",
      "Successfully installed gpt-2-simple-0.6 regex-2019.8.19 toposort-1.5\n"
     ]
    }
   ],
   "source": [
    "!pip install gpt_2_simple\n",
    "import gpt_2_simple as gpt2\n",
    "import ipywidgets as widgets\n",
    "from datetime import datetime"
   ]
  },
  {
   "cell_type": "code",
   "execution_count": 3,
   "metadata": {
    "colab": {},
    "colab_type": "code",
    "id": "FvUIMHtDY6bq"
   },
   "outputs": [],
   "source": [
    "#define functions\n",
    "\n",
    "def startup(button):\n",
    "  model_name = \"774M\"\n",
    "\n",
    "  gpt2.download_gpt2(model_name=model_name)\n",
    "\n",
    "  sess = gpt2.start_tf_sess()\n",
    "\n",
    "  gpt2.load_gpt2(sess, model_name=model_name)\n",
    "\n",
    "def generate(balancer, box, button):\n",
    "  gpt2.generate(sess,\n",
    "                mosel_name = model_name,\n",
    "                prefix=box,\n",
    "                length=balancer,\n",
    "                temperature=0.7,\n",
    "                top_p=0.9,\n",
    "                nsamples=5,\n",
    "                batch_size=5\n",
    "                )"
   ]
  },
  {
   "cell_type": "code",
   "execution_count": 5,
   "metadata": {
    "colab": {},
    "colab_type": "code",
    "id": "ONrfnbPvZFoC"
   },
   "outputs": [
    {
     "ename": "ValueError",
     "evalue": "Button(description='Startup', style=ButtonStyle(), tooltip='startup') cannot be transformed to a widget",
     "output_type": "error",
     "traceback": [
      "\u001b[1;31m---------------------------------------------------------------------------\u001b[0m",
      "\u001b[1;31mValueError\u001b[0m                                Traceback (most recent call last)",
      "\u001b[1;32m<ipython-input-5-a5b36ba2091b>\u001b[0m in \u001b[0;36m<module>\u001b[1;34m\u001b[0m\n\u001b[0;32m     35\u001b[0m \u001b[1;31m#create the views\u001b[0m\u001b[1;33m\u001b[0m\u001b[1;33m\u001b[0m\u001b[1;33m\u001b[0m\u001b[0m\n\u001b[0;32m     36\u001b[0m truth_view = widgets.interactive(startup,\n\u001b[1;32m---> 37\u001b[1;33m                                  \u001b[0mbutton\u001b[0m\u001b[1;33m=\u001b[0m\u001b[0mbutton_widget2\u001b[0m\u001b[1;33m\u001b[0m\u001b[1;33m\u001b[0m\u001b[0m\n\u001b[0m\u001b[0;32m     38\u001b[0m                                  )\n\u001b[0;32m     39\u001b[0m generate_view = widgets.interactive(generate,\n",
      "\u001b[1;32m~\\AppData\\Local\\Continuum\\anaconda3\\lib\\site-packages\\ipywidgets\\widgets\\interaction.py\u001b[0m in \u001b[0;36m__init__\u001b[1;34m(self, _interactive__interact_f, _interactive__options, **kwargs)\u001b[0m\n\u001b[0;32m    198\u001b[0m             \u001b[0mgetcallargs\u001b[0m\u001b[1;33m(\u001b[0m\u001b[0mf\u001b[0m\u001b[1;33m,\u001b[0m \u001b[1;33m**\u001b[0m\u001b[1;33m{\u001b[0m\u001b[0mn\u001b[0m\u001b[1;33m:\u001b[0m\u001b[0mv\u001b[0m \u001b[1;32mfor\u001b[0m \u001b[0mn\u001b[0m\u001b[1;33m,\u001b[0m\u001b[0mv\u001b[0m\u001b[1;33m,\u001b[0m\u001b[0m_\u001b[0m \u001b[1;32min\u001b[0m \u001b[0mnew_kwargs\u001b[0m\u001b[1;33m}\u001b[0m\u001b[1;33m)\u001b[0m\u001b[1;33m\u001b[0m\u001b[1;33m\u001b[0m\u001b[0m\n\u001b[0;32m    199\u001b[0m         \u001b[1;31m# Now build the widgets from the abbreviations.\u001b[0m\u001b[1;33m\u001b[0m\u001b[1;33m\u001b[0m\u001b[1;33m\u001b[0m\u001b[0m\n\u001b[1;32m--> 200\u001b[1;33m         \u001b[0mself\u001b[0m\u001b[1;33m.\u001b[0m\u001b[0mkwargs_widgets\u001b[0m \u001b[1;33m=\u001b[0m \u001b[0mself\u001b[0m\u001b[1;33m.\u001b[0m\u001b[0mwidgets_from_abbreviations\u001b[0m\u001b[1;33m(\u001b[0m\u001b[0mnew_kwargs\u001b[0m\u001b[1;33m)\u001b[0m\u001b[1;33m\u001b[0m\u001b[1;33m\u001b[0m\u001b[0m\n\u001b[0m\u001b[0;32m    201\u001b[0m \u001b[1;33m\u001b[0m\u001b[0m\n\u001b[0;32m    202\u001b[0m         \u001b[1;31m# This has to be done as an assignment, not using self.children.append,\u001b[0m\u001b[1;33m\u001b[0m\u001b[1;33m\u001b[0m\u001b[1;33m\u001b[0m\u001b[0m\n",
      "\u001b[1;32m~\\AppData\\Local\\Continuum\\anaconda3\\lib\\site-packages\\ipywidgets\\widgets\\interaction.py\u001b[0m in \u001b[0;36mwidgets_from_abbreviations\u001b[1;34m(self, seq)\u001b[0m\n\u001b[0;32m    298\u001b[0m             \u001b[1;32mif\u001b[0m \u001b[1;32mnot\u001b[0m \u001b[1;33m(\u001b[0m\u001b[0misinstance\u001b[0m\u001b[1;33m(\u001b[0m\u001b[0mwidget\u001b[0m\u001b[1;33m,\u001b[0m \u001b[0mValueWidget\u001b[0m\u001b[1;33m)\u001b[0m \u001b[1;32mor\u001b[0m \u001b[0misinstance\u001b[0m\u001b[1;33m(\u001b[0m\u001b[0mwidget\u001b[0m\u001b[1;33m,\u001b[0m \u001b[0mfixed\u001b[0m\u001b[1;33m)\u001b[0m\u001b[1;33m)\u001b[0m\u001b[1;33m:\u001b[0m\u001b[1;33m\u001b[0m\u001b[1;33m\u001b[0m\u001b[0m\n\u001b[0;32m    299\u001b[0m                 \u001b[1;32mif\u001b[0m \u001b[0mwidget\u001b[0m \u001b[1;32mis\u001b[0m \u001b[1;32mNone\u001b[0m\u001b[1;33m:\u001b[0m\u001b[1;33m\u001b[0m\u001b[1;33m\u001b[0m\u001b[0m\n\u001b[1;32m--> 300\u001b[1;33m                     \u001b[1;32mraise\u001b[0m \u001b[0mValueError\u001b[0m\u001b[1;33m(\u001b[0m\u001b[1;34m\"{!r} cannot be transformed to a widget\"\u001b[0m\u001b[1;33m.\u001b[0m\u001b[0mformat\u001b[0m\u001b[1;33m(\u001b[0m\u001b[0mabbrev\u001b[0m\u001b[1;33m)\u001b[0m\u001b[1;33m)\u001b[0m\u001b[1;33m\u001b[0m\u001b[1;33m\u001b[0m\u001b[0m\n\u001b[0m\u001b[0;32m    301\u001b[0m                 \u001b[1;32melse\u001b[0m\u001b[1;33m:\u001b[0m\u001b[1;33m\u001b[0m\u001b[1;33m\u001b[0m\u001b[0m\n\u001b[0;32m    302\u001b[0m                     \u001b[1;32mraise\u001b[0m \u001b[0mTypeError\u001b[0m\u001b[1;33m(\u001b[0m\u001b[1;34m\"{!r} is not a ValueWidget\"\u001b[0m\u001b[1;33m.\u001b[0m\u001b[0mformat\u001b[0m\u001b[1;33m(\u001b[0m\u001b[0mwidget\u001b[0m\u001b[1;33m)\u001b[0m\u001b[1;33m)\u001b[0m\u001b[1;33m\u001b[0m\u001b[1;33m\u001b[0m\u001b[0m\n",
      "\u001b[1;31mValueError\u001b[0m: Button(description='Startup', style=ButtonStyle(), tooltip='startup') cannot be transformed to a widget"
     ]
    }
   ],
   "source": [
    "#create widgets\n",
    "\n",
    "balancer_widget = widgets.IntSlider(value=100,\n",
    "                                    min=0,\n",
    "                                    max=1000,\n",
    "                                    step=10,\n",
    "                                    description='# of words',\n",
    "                                    disabled=False,\n",
    "                                    continuous_update=False,\n",
    "                                    orientation='horizontal',\n",
    "                                    readout=True,\n",
    "                                    readout_format='d'\n",
    "                                    )\n",
    "\n",
    "text_widget = widgets.Textarea(value='',\n",
    "                               placeholder='Start Typing Here!',\n",
    "                               description='String:',\n",
    "                               disabled=False)\n",
    "\n",
    "button_widget = widgets.Button(description=\"Generate Text\",\n",
    "                               disabled=False,\n",
    "                               button_style='',\n",
    "                               tooltip='Generate Text'\n",
    "                               )\n",
    "button_widget2 = widgets.Button(description=\"Startup\",\n",
    "                                disabled=False,\n",
    "                                button_style='',\n",
    "                                tooltip='startup'\n",
    "                                )\n",
    "\n",
    "\n",
    "out = widgets.Output(layout={'border': '1px solid black'})\n",
    "\n",
    "\n",
    "#create the views\n",
    "truth_view = widgets.interactive(startup,\n",
    "                                 button=button_widget2\n",
    "                                 )\n",
    "generate_view = widgets.interactive(generate,\n",
    "                                    balancer=balancer_widget,\n",
    "                                    box=text_widget,\n",
    "                                    button=button_widget\n",
    "                                    )\n",
    "\n",
    "grid = widgets.GridspecLayout(1, 2, layout=widgets.Layout(justify_content='center'))\n",
    "grid[0, 0] = truth_view\n",
    "grid[0, 1:] = generate_view"
   ]
  },
  {
   "cell_type": "code",
   "execution_count": 10,
   "metadata": {
    "colab": {},
    "colab_type": "code",
    "id": "LMIxp4qBfv8z"
   },
   "outputs": [
    {
     "ename": "NameError",
     "evalue": "name 'grid' is not defined",
     "output_type": "error",
     "traceback": [
      "\u001b[1;31m---------------------------------------------------------------------------\u001b[0m",
      "\u001b[1;31mNameError\u001b[0m                                 Traceback (most recent call last)",
      "\u001b[1;32m<ipython-input-10-996cd5e94aa8>\u001b[0m in \u001b[0;36m<module>\u001b[1;34m\u001b[0m\n\u001b[0;32m     27\u001b[0m \u001b[1;33m\u001b[0m\u001b[0m\n\u001b[0;32m     28\u001b[0m app_contents = [widgets.HTML(title_html, layout=widgets.Layout(margin='0 0 3em 0',max_width='800px')),\n\u001b[1;32m---> 29\u001b[1;33m             \u001b[0mgrid\u001b[0m\u001b[1;33m,\u001b[0m\u001b[1;33m\u001b[0m\u001b[1;33m\u001b[0m\u001b[0m\n\u001b[0m\u001b[0;32m     30\u001b[0m             widgets.HTML(description_html, layout=widgets.Layout(margin='3em 0 0 0',max_width='800px'))]\n\u001b[0;32m     31\u001b[0m \u001b[0mapp\u001b[0m \u001b[1;33m=\u001b[0m \u001b[0mwidgets\u001b[0m\u001b[1;33m.\u001b[0m\u001b[0mVBox\u001b[0m\u001b[1;33m(\u001b[0m\u001b[0mapp_contents\u001b[0m\u001b[1;33m,\u001b[0m \u001b[0mlayout\u001b[0m\u001b[1;33m=\u001b[0m\u001b[0mwidgets\u001b[0m\u001b[1;33m.\u001b[0m\u001b[0mLayout\u001b[0m\u001b[1;33m(\u001b[0m\u001b[0mmax_width\u001b[0m\u001b[1;33m=\u001b[0m\u001b[1;34m'1024px'\u001b[0m\u001b[1;33m,\u001b[0m \u001b[0mmargin\u001b[0m\u001b[1;33m=\u001b[0m\u001b[1;34m'0 auto 0 auto'\u001b[0m\u001b[1;33m)\u001b[0m\u001b[1;33m)\u001b[0m\u001b[1;33m\u001b[0m\u001b[1;33m\u001b[0m\u001b[0m\n",
      "\u001b[1;31mNameError\u001b[0m: name 'grid' is not defined"
     ]
    }
   ],
   "source": [
    "#Make the app\n",
    "\n",
    "title_html = \"\"\"\n",
    "<h2>Text Generation with GPT-2 Interactive</h2>\n",
    "<h3>By Chris Brousseau</h3>\n",
    "<h3><a href=\"http://brousseauai.com\">My Website</a></h3>\n",
    "\n",
    "<ul style=\"line-height: 1.5\">\n",
    "  <li>This model was originally released by OpenAI in 2019.</li>\n",
    "\n",
    "  <li>Please press Startup before doing anything else to allow the model to load.</li>\n",
    "\n",
    "  <li>Use the slider to determine how many words you would like to output.</li>\n",
    "  \n",
    "  <li>Type in the start of whatever you would like the bot to finish.</li>\n",
    "</ul>\n",
    "\"\"\"\n",
    "\n",
    "description_html = \"\"\"\n",
    "<style>\n",
    "p {\n",
    "    margin-bottom: 1.2em;\n",
    "    line-height: 1.5;\n",
    "}\n",
    "</style>\n",
    "\"\"\"\n",
    "\n",
    "app_contents = [widgets.HTML(title_html, layout=widgets.Layout(margin='0 0 3em 0',max_width='800px')),\n",
    "            grid,\n",
    "            widgets.HTML(description_html, layout=widgets.Layout(margin='3em 0 0 0',max_width='800px'))]\n",
    "app = widgets.VBox(app_contents, layout=widgets.Layout(max_width='1024px', margin='0 auto 0 auto'))"
   ]
  },
  {
   "cell_type": "code",
   "execution_count": 7,
   "metadata": {
    "colab": {},
    "colab_type": "code",
    "id": "C1OFofYDhLh7"
   },
   "outputs": [
    {
     "ename": "NameError",
     "evalue": "name 'app' is not defined",
     "output_type": "error",
     "traceback": [
      "\u001b[1;31m---------------------------------------------------------------------------\u001b[0m",
      "\u001b[1;31mNameError\u001b[0m                                 Traceback (most recent call last)",
      "\u001b[1;32m<ipython-input-7-b94ff33c5699>\u001b[0m in \u001b[0;36m<module>\u001b[1;34m\u001b[0m\n\u001b[1;32m----> 1\u001b[1;33m \u001b[0mdisplay\u001b[0m\u001b[1;33m(\u001b[0m\u001b[0mapp\u001b[0m\u001b[1;33m)\u001b[0m\u001b[1;33m\u001b[0m\u001b[1;33m\u001b[0m\u001b[0m\n\u001b[0m",
      "\u001b[1;31mNameError\u001b[0m: name 'app' is not defined"
     ]
    }
   ],
   "source": [
    "display(app)"
   ]
  },
  {
   "cell_type": "code",
   "execution_count": null,
   "metadata": {},
   "outputs": [],
   "source": []
  }
 ],
 "metadata": {
  "colab": {
   "collapsed_sections": [],
   "name": "GPT-2 Heroku.ipynb",
   "provenance": []
  },
  "kernelspec": {
   "display_name": "Python 3",
   "language": "python",
   "name": "python3"
  },
  "language_info": {
   "codemirror_mode": {
    "name": "ipython",
    "version": 3
   },
   "file_extension": ".py",
   "mimetype": "text/x-python",
   "name": "python",
   "nbconvert_exporter": "python",
   "pygments_lexer": "ipython3",
   "version": "3.7.3"
  }
 },
 "nbformat": 4,
 "nbformat_minor": 1
}
