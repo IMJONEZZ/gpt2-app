{
  "nbformat": 4,
  "nbformat_minor": 0,
  "metadata": {
    "colab": {
      "name": "GPT-2 Heroku.ipynb",
      "provenance": [],
      "collapsed_sections": []
    },
    "kernelspec": {
      "name": "python3",
      "display_name": "Python 3"
    }
  },
  "cells": [
    {
      "cell_type": "code",
      "metadata": {
        "id": "bYhEpZk2YqUI",
        "colab_type": "code",
        "colab": {}
      },
      "source": [
        "import gpt_2_simple as gpt2\n",
        "import ipywidgets as widgets\n",
        "from datetime import datetime"
      ],
      "execution_count": 0,
      "outputs": []
    },
    {
      "cell_type": "code",
      "metadata": {
        "id": "FvUIMHtDY6bq",
        "colab_type": "code",
        "colab": {}
      },
      "source": [
        "#define functions\n",
        "\n",
        "def startup(button):\n",
        "  model_name = \"774M\"\n",
        "\n",
        "  gpt2.download_gpt2(model_name=model_name)\n",
        "\n",
        "  sess = gpt2.start_tf_sess()\n",
        "\n",
        "  gpt2.load_gpt2(sess, model_name=model_name)\n",
        "\n",
        "def generate(balancer, box, button):\n",
        "  gpt2.generate(sess,\n",
        "                mosel_name = model_name,\n",
        "                prefix=box,\n",
        "                length=balancer,\n",
        "                temperature=0.7,\n",
        "                top_p=0.9,\n",
        "                nsamples=5,\n",
        "                batch_size=5\n",
        "                )"
      ],
      "execution_count": 0,
      "outputs": []
    },
    {
      "cell_type": "code",
      "metadata": {
        "id": "ONrfnbPvZFoC",
        "colab_type": "code",
        "colab": {}
      },
      "source": [
        "#create widgets\n",
        "\n",
        "balancer_widget = widgets.IntSlider(value=100,\n",
        "                                    min=0,\n",
        "                                    max=1000,\n",
        "                                    step=10,\n",
        "                                    description='# of words',\n",
        "                                    disabled=False,\n",
        "                                    continuous_update=False,\n",
        "                                    orientation='horizontal',\n",
        "                                    readout=True,\n",
        "                                    readout_format='d'\n",
        "                                    )\n",
        "\n",
        "text_widget = widgets.Textarea(value='',\n",
        "                               placeholder='Start Typing Here!',\n",
        "                               description='String:',\n",
        "                               disabled=False)\n",
        "\n",
        "button_widget = widgets.button(description=\"Generate Text\",\n",
        "                               disabled=False,\n",
        "                               button_style='',\n",
        "                               tooltip='Generate Text'\n",
        "                               )\n",
        "button_widget2 = widgets.button(description=\"Startup\",\n",
        "                                disabled=False,\n",
        "                                button_style='success',\n",
        "                                tooltip='startup'\n",
        "                                )\n",
        "\n",
        "\n",
        "out = widgets.Output(layout={'border': '1px solid black'})\n",
        "\n",
        "\n",
        "#create the views\n",
        "truth_view = widgets.interactive(startup,\n",
        "                                 button=button_widget2\n",
        "                                 )\n",
        "generate_view = widgets.interactive(generate,\n",
        "                                    balancer=balancer_widget,\n",
        "                                    box=text_widget,\n",
        "                                    button=button_widget\n",
        "                                    )
        "grid = widgets.GridspecLayout(2, 3, layout=widgets.Layout(justify_content='center'))
        "grid[0, 0] = truth_view
        "grid[0, 1:] = generate_view"
      ],
      "execution_count": 0,
      "outputs": []
    },
    {
      "cell_type": "code",
      "metadata": {
        "id": "LMIxp4qBfv8z",
        "colab_type": "code",
        "colab": {}
      },
      "source": [
        "#Make the app\n",
        "\n",
        "title_html = \"\"\"\n",
        "<h2>Text Generation with GPT-2 Interactive</h2>\n",
        "<h3>By Chris Brousseau</h3>\n",
        "<h3><a href=\"http://brousseauai.com\">My Website</a></h3>\n",
        "\n",
        "<ul style=\"line-height: 1.5\">\n",
        "  <li>This model was originally released by OpenAI in 2019.</li>\n",
        "\n",
        "  <li>Please press Startup before doing anything else to allow the model to load.</li>\n",
        "\n",
        "  <li>Use the slider to determine how many words you would like to output.</li>\n",
        "  \n",
        "  <li>Type in the start of whatever you would like the bot to finish.</li>\n",
        "</ul>\n",
        "\"\"\"\n",
        "\n",
        "description_html = \"\"\"\n",
        "<style>\n",
        "p {\n",
        "    margin-bottom: 1.2em;\n",
        "    line-height: 1.5;\n",
        "}\n",
        "</style>\n",
        "\"\"\"\n",
        "\n",
        "app_contents = [widgets.HTML(title_html, layout=widgets.Layout(margin='0 0 3em 0', max_width='1000px')),\n",
        "            grid,\n",
        "            widgets.HTML(description_html, layout=widgets.Layout(margin='3em 0 0 0', max_width='1000px'))]\n",
        "app = widgets.VBox(app_contents, layout=widgets.Layout(max_width='1024px', margin='0 auto 0 auto'))"
      ],
      "execution_count": 0,
      "outputs": []
    },
    {
      "cell_type": "code",
      "metadata": {
        "id": "C1OFofYDhLh7",
        "colab_type": "code",
        "colab": {}
      },
      "source": [
        "display(app)"
      ],
      "execution_count": 0,
      "outputs": []
    }
  ]
}